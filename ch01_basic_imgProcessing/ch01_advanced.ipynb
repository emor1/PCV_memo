{
 "cells": [
  {
   "cell_type": "markdown",
   "metadata": {},
   "source": [
    "## 高度な例\n",
    "\n",
    "ノイズ除去：ROFモデル\n",
    "\n",
    "ROF解法\n",
    "$$J(I)=\\int|\\nabla I| dx $$"
   ]
  },
  {
   "cell_type": "code",
   "execution_count": null,
   "metadata": {},
   "outputs": [],
   "source": [
    "import numpy as np\n",
    "import matplotlib.pyplot as plt\n",
    "from PIL import Image\n",
    "%matplotlib inline\n",
    "\n",
    "\n",
    "def denoise(im, U_int, tolerance=0.1, tau=0.125, tv_weight=100):\n",
    "    \"\"\"\n",
    "    Rudin-Osher-Fatemi(ROF) #のいず除去モデル\n",
    "    入力：ノイズのある入力画像(グレイスケール)、Uの初期ガウス分布、終了判定時の許容誤差、ステップ調、TV正規化の重み\n",
    "    出力；ノイズを除去された画像、残余テクスチャ\n",
    "    \"\"\"\n",
    "\n",
    "    m, n = im.shape\n",
    "    #初期化\n",
    "    U = U_int\n",
    "    Px = im\n",
    "    Py = im\n",
    "    error = 1\n",
    "\n",
    "    while(error>tolerance):\n",
    "        Uold = U\n",
    "\n",
    "        # 手変数の勾配\n",
    "        GradUx = np.roll(U, -1, axis = 1)-U #Uの勾配のx成分\n",
    "        GradUy = np.roll(U, -1, axis = 0)-U #Uの勾配のx成分\n",
    "\n",
    "        # 双対変数を更新\n",
    "        PxNew = Px + (tau/tv_weight)*GradUx # non-normalized update of x-component (dual)\n",
    "        PyNew = Py + (tau/tv_weight)*GradUy # non-normalized update of y-component (dual)\n",
    "        NormNew = np.maximum(1,np.sqrt(PxNew**2+PyNew**2))\n",
    "\n",
    "        #双対変数を更新\n",
    "        Px = PxNew/NormNew # update of x-component (dual)\n",
    "        Py = PyNew/NormNew # update of y-component (dual)\n",
    "\n",
    "        # 双対領域の発散\n",
    "        RxPx = np.roll(Px,1,axis=1) # right x-translation of x-component\n",
    "        RyPy = np.roll(Py,1,axis=0) # right y-translation of y-component\n",
    "\n",
    "        # 主変数を更新\n",
    "        DivP = (Px-RxPx)+(Py-RyPy) # divergence of the dual field.\n",
    "        U = im + tv_weight*DivP # update of the primal variable\n",
    "\n",
    "        # update of error\n",
    "        error = np.linalg.norm(U-Uold)/np.sqrt(n*m)\n",
    "\n",
    "    return U,im-U # denoised image and texture residual"
   ]
  }
 ],
 "metadata": {
  "language_info": {
   "name": "python"
  },
  "orig_nbformat": 4
 },
 "nbformat": 4,
 "nbformat_minor": 2
}
